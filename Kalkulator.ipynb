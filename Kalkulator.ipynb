{
 "cells": [
  {
   "cell_type": "code",
   "execution_count": 2,
   "metadata": {},
   "outputs": [],
   "source": [
    "import handcalcs.render\n",
    "import forallpeople\n",
    "from math import *\n",
    "forallpeople.environment('structural', top_level = True)\n",
    "import pyodbc\n",
    "import pandas as pd"
   ]
  },
  {
   "cell_type": "code",
   "execution_count": 3,
   "metadata": {},
   "outputs": [
    {
     "name": "stdout",
     "output_type": "stream",
     "text": [
      "Połączenie z bazą danych udane.\n"
     ]
    }
   ],
   "source": [
    "server = 'steel.database.windows.net'\n",
    "database = 'steeldata'\n",
    "username = 'adrianrymarz'\n",
    "password = 'rq7U9zU6P@TtRZRiwurXA'   \n",
    "driver= '{ODBC Driver 17 for SQL Server}'\n",
    "conn_str = f\"DRIVER={driver};SERVER={server};DATABASE={database};UID={username};PWD={password}\"\n",
    "table_name = 'IPE'\n",
    "\n",
    "conn = pyodbc.connect(conn_str)\n",
    "if conn:\n",
    "    print(\"Połączenie z bazą danych udane.\")\n",
    "cursor = conn.cursor()"
   ]
  },
  {
   "cell_type": "code",
   "execution_count": 4,
   "metadata": {},
   "outputs": [
    {
     "ename": "NameError",
     "evalue": "name 'row' is not defined",
     "output_type": "error",
     "traceback": [
      "\u001b[1;31m---------------------------------------------------------------------------\u001b[0m",
      "\u001b[1;31mNameError\u001b[0m                                 Traceback (most recent call last)",
      "Cell \u001b[1;32mIn[4], line 5\u001b[0m\n\u001b[0;32m      3\u001b[0m cursor\u001b[39m.\u001b[39mexecute(query)\n\u001b[0;32m      4\u001b[0m h_s \u001b[39m=\u001b[39m cursor\u001b[39m.\u001b[39mfetchone()\n\u001b[1;32m----> 5\u001b[0m \u001b[39mif\u001b[39;00m row \u001b[39mis\u001b[39;00m \u001b[39mnot\u001b[39;00m \u001b[39mNone\u001b[39;00m:\n\u001b[0;32m      6\u001b[0m     h_s \u001b[39m=\u001b[39m row[\u001b[39m0\u001b[39m]\n\u001b[0;32m      7\u001b[0m     \u001b[39mprint\u001b[39m(h_s)\n",
      "\u001b[1;31mNameError\u001b[0m: name 'row' is not defined"
     ]
    }
   ],
   "source": [
    "column_profile = 'IPE100'\n",
    "query = f\"SELECT h FROM [{table_name}] WHERE name = '{column_profile}'\"\n",
    "cursor.execute(query)\n",
    "h_s = cursor.fetchone()\n",
    "if row is not None:\n",
    "    h_s = row[0]\n",
    "    print(h_s)\n",
    "else:\n",
    "    print(\"Nie znaleziono pasującego wiersza.\")"
   ]
  },
  {
   "cell_type": "markdown",
   "metadata": {},
   "source": [
    "# Dane obliczeniowe"
   ]
  },
  {
   "cell_type": "code",
   "execution_count": 35,
   "metadata": {},
   "outputs": [
    {
     "ename": "TypeError",
     "evalue": "'NoneType' object is not subscriptable",
     "output_type": "error",
     "traceback": [
      "\u001b[1;31m---------------------------------------------------------------------------\u001b[0m",
      "\u001b[1;31mTypeError\u001b[0m                                 Traceback (most recent call last)",
      "Cell \u001b[1;32mIn[35], line 5\u001b[0m\n\u001b[0;32m      3\u001b[0m query \u001b[39m=\u001b[39m \u001b[39mf\u001b[39m\u001b[39m\"\u001b[39m\u001b[39mSELECT h FROM [\u001b[39m\u001b[39m{\u001b[39;00mtable_name\u001b[39m}\u001b[39;00m\u001b[39m] WHERE name = \u001b[39m\u001b[39m'\u001b[39m\u001b[39m{\u001b[39;00mcolumn_profile\u001b[39m}\u001b[39;00m\u001b[39m'\u001b[39m\u001b[39m\"\u001b[39m\n\u001b[0;32m      4\u001b[0m cursor\u001b[39m.\u001b[39mexecute(query)\n\u001b[1;32m----> 5\u001b[0m h_s \u001b[39m=\u001b[39m cursor\u001b[39m.\u001b[39;49mfetchone()[\u001b[39m0\u001b[39;49m]\n\u001b[0;32m      6\u001b[0m \u001b[39m#Słup HEA200, S235\u001b[39;00m\n\u001b[0;32m      7\u001b[0m b_s \u001b[39m=\u001b[39m \u001b[39m200\u001b[39m\u001b[39m*\u001b[39mmm\n",
      "\u001b[1;31mTypeError\u001b[0m: 'NoneType' object is not subscriptable"
     ]
    }
   ],
   "source": [
    "%%render short\n",
    "#------------Dane Do Obliczeń------------#\n",
    "\n",
    "#Słup HEA200, S235\n",
    "b_s = 200*mm\n",
    "t_w_s = 6.5*mm\n",
    "t_f_s = 10*mm\n",
    "r_s = 18*mm\n",
    "A_s = 5283*mm**2\n",
    "I_y_s = 36920000*mm**4\n",
    "f_y_s = 235*N/mm**2\n",
    "f_u_s = 360*N/mm**2\n",
    "\n",
    "#Belka IPE300, S235\n",
    "h_b = 300*mm\n",
    "b_b = 150*mm\n",
    "t_w_b = 7.1*mm\n",
    "t_f_b = 10.7*mm\n",
    "r_b = 15*mm\n",
    "A_b = 5381*mm**2\n",
    "I_y_b = 83560000*mm**4\n",
    "f_y_b = 235*N/mm**2\n",
    "f_u_b = 360*N/mm**2\n",
    "\n",
    "#Blacha 230*110*10, S235\n",
    "g_v = 35*mm\n",
    "g_h = 10*mm\n",
    "h_p = 230*mm\n",
    "b_p = 110*mm\n",
    "t_p = 10*mm\n",
    "f_y_p = 235*N/mm**2\n",
    "f_u_p = 360*N/mm**2\n",
    "\n",
    "#Kierunek równoległy do kierunku działania obciążenia (1)\n",
    "n_1 = 3\n",
    "e_1 = 45*mm\n",
    "e_1_b = 80*mm\n",
    "p_1 = 70*mm\n",
    "\n",
    "#Kierunek prostopadły do kierunku działania obciążenia (2)\n",
    "n_2 = 1\n",
    "e_2 = 50*mm\n",
    "e_2_b = 50*mm\n",
    "z = 60*mm\n",
    "\n",
    "#Śruby niesprężone M20 klasy 8.8\n",
    "n = n_1 * n_2\n",
    "klasa = 8.8\n",
    "A_s = 245*mm**2\n",
    "d = 20*mm\n",
    "d_0 = 22*mm\n",
    "f_yb = 640*N/mm**2\n",
    "f_ub = 800*N/mm**2\n",
    "\n",
    "#Spoiny pachwinowe\n",
    "a = 5*mm\n",
    "\n",
    "#Częściowe współczynniki bezpieczeństwa\n",
    "gamma_MO = 1\n",
    "gamma_M2 = 1.25\n",
    "gamma_Mu = 1.1\n",
    "\n",
    "#Obliczeniowa siła ścinająca\n",
    "V_Ed = 100*kN\n",
    "\n",
    "\n",
    "#------------Nośność połączenia na ściananie------------#\n",
    "\n",
    "#Ścięcie trzpienia śrub\n",
    "if(klasa == 8.8):\n",
    "    alpha_v = 0.6\n",
    "if((n_2 == 1) and (n == n_1)):\n",
    "    alpha = 0\n",
    "    beta = (6 * z) / (n * (n + 1) * p_1)\n",
    "F_vRd = (alpha_v * f_ub * A_s) / gamma_M2\n",
    "V_Rd1 = (n * F_vRd) / (sqrt((1 + alpha * n)**2 + (beta * n)**2))\n",
    "\n",
    "#Uplastycznienie ścianki otworu na śrubę w blasze węzłowej\n",
    "\n",
    "alpha_b = min(e_1 / (3 * d_0), p_1 / (3 * d_0) - 0.25, f_ub / f_u_p, 1)\n",
    "k_1 = min(2.8 * e_2 / d_0 - 1.7, 2.5)\n",
    "F_bRd_ver = (k_1 * alpha_b * f_u_p * d * t_p) / gamma_M2\n",
    "alpha_b = min(e_2 / (3 * d_0), f_ub / f_u_p, 1)\n",
    "k_1 = min(2.8 * e_1 / d_0 - 1.7, 1.4 * p_1 / d_0 - 1.7, 2.5)\n",
    "F_bRd_hor = (k_1 * alpha_b * f_u_p * d * t_p) / gamma_M2\n",
    "V_Rd2 = n / (sqrt(((1 + alpha * n) / (F_bRd_ver/kN))**2 + ((beta * n) / (F_bRd_hor/kN))**2))*kN\n",
    "\n",
    "#Uplastycznienie ścianki otworu na śrubę w środniku belki \n",
    "\n",
    "alpha_b = min(p_1 / (3 * d_0) - 0.25, f_ub / f_u_b, 1)\n",
    "k_1 = min(2.8 * e_2_b / d_0 - 1.7, 2.5)\n",
    "F_bRd_ver = (k_1 * alpha_b * f_u_b * d * t_w_b) / gamma_M2\n",
    "alpha_b = min(e_2_b / (3 * d_0), f_ub / f_u_b, 1)\n",
    "k_1 = min(1.4 * p_1 / d_0 - 1.7, 2.5)\n",
    "F_bRd_hor = (k_1 * alpha_b * f_u_p * d * t_w_b) / gamma_M2\n",
    "V_Rd8 = n / (sqrt(((1 + alpha * n) / (F_bRd_ver/kN))**2 + ((beta * n) / (F_bRd_hor/kN))**2))*kN\n",
    "\n",
    "#------------Nośność połączenia ze względu na ciągnienie------------#\n",
    "\n",
    "#Ścięcie trzpieni śrub\n",
    "F_vRdu = alpha_v * f_ub * A_s / gamma_Mu\n",
    "N_Rdu1 = n * F_vRdu\n",
    "\n",
    "#Uplastycznienie ścianki otworu na śrubę w blasze węzłowej\n",
    "alpha_b = min(e_2 / (3 * d_0), f_ub / f_u_p, 1)\n",
    "k_1 = min(2.8 * e_1 / d_0 - 1.7, 1.4 * p_1 / d_0 - 1.7 , 2.5)\n",
    "F_bRdu_hor = k_1 * alpha_b * f_u_p * d * t_p / gamma_Mu\n",
    "N_Rdu2 = n * F_bRdu_hor\n",
    "\n",
    "#Uplastycznienie ścianki otworu na śrubę w środniku belki\n",
    "alpha_b = min(e_2_b / (3 * d_0), f_ub / f_u_b, 1)\n",
    "k_1 = min(1.4 * p_1 / d_0 - 1.7, 2.5)\n",
    "F_bRdu_hor = k_1 * alpha_b * f_u_b * d * t_w_b / gamma_Mu\n",
    "N_Rdu5 = n * F_bRdu_hor\n",
    "conn.close()\n"
   ]
  },
  {
   "cell_type": "code",
   "execution_count": 31,
   "metadata": {},
   "outputs": [
    {
     "data": {
      "text/latex": [
       "\\[\n",
       "\\begin{aligned}\n",
       "V_{Rd1} &= 173.28\\ \\mathrm{kN} \\; \n",
       "\\\\[10pt]\n",
       "V_{Rd2} &= 192.59\\ \\mathrm{kN} \\; \n",
       "\\\\[10pt]\n",
       "V_{Rd8} &= 146.19\\ \\mathrm{kN} \\; \n",
       "\\\\[10pt]\n",
       "N_{Rdu1} &= 320.73\\ \\mathrm{kN} \\; \n",
       "\\\\[10pt]\n",
       "N_{Rdu2} &= 371.90\\ \\mathrm{kN} \\; \n",
       "\\\\[10pt]\n",
       "N_{Rdu5} &= 264.05\\ \\mathrm{kN} \\; \n",
       "\\end{aligned}\n",
       "\\]"
      ],
      "text/plain": [
       "<IPython.core.display.Latex object>"
      ]
     },
     "metadata": {},
     "output_type": "display_data"
    }
   ],
   "source": [
    "%%render short 2\n",
    "V_Rd1\n",
    "V_Rd2\n",
    "V_Rd8\n",
    "N_Rdu1\n",
    "N_Rdu2\n",
    "N_Rdu5"
   ]
  },
  {
   "cell_type": "code",
   "execution_count": null,
   "metadata": {},
   "outputs": [],
   "source": []
  }
 ],
 "metadata": {
  "kernelspec": {
   "display_name": "Python 3",
   "language": "python",
   "name": "python3"
  },
  "language_info": {
   "codemirror_mode": {
    "name": "ipython",
    "version": 3
   },
   "file_extension": ".py",
   "mimetype": "text/x-python",
   "name": "python",
   "nbconvert_exporter": "python",
   "pygments_lexer": "ipython3",
   "version": "3.11.2"
  },
  "orig_nbformat": 4
 },
 "nbformat": 4,
 "nbformat_minor": 2
}
